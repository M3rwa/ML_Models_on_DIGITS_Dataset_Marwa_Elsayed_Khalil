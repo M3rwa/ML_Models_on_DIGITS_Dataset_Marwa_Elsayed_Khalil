{
  "nbformat": 4,
  "nbformat_minor": 0,
  "metadata": {
    "colab": {
      "provenance": []
    },
    "kernelspec": {
      "name": "python3",
      "display_name": "Python 3"
    },
    "language_info": {
      "name": "python"
    }
  },
  "cells": [
    {
      "cell_type": "markdown",
      "source": [
        "# **Data Pre-Processing**"
      ],
      "metadata": {
        "id": "I8tc4kZnRr7w"
      }
    },
    {
      "cell_type": "code",
      "execution_count": 1,
      "metadata": {
        "id": "VKNqcRzrPr1v"
      },
      "outputs": [],
      "source": [
        "##### Standard Libraries #####\n",
        "import pandas as pd\n",
        "import numpy as np\n",
        "import seaborn as sns\n",
        "import matplotlib.pyplot as plt\n",
        "sns.set_style(\"whitegrid\")\n",
        "sns.set_context (\"poster\")\n",
        "%matplotlib inline\n",
        "\n",
        "## ### For Preprocessing #####\n",
        "from sklearn.preprocessing import  MinMaxScaler\n",
        "from sklearn.preprocessing import LabelEncoder\n",
        "from sklearn.model_selection import train_test_split\n",
        "from sklearn.feature_selection import chi2,SelectKBest,f_classif\n",
        "from imblearn.over_sampling import SMOTE\n",
        "\n",
        "##### For Building the Model\n",
        "from sklearn.ensemble import RandomForestClassifier , RandomForestRegressor\n",
        "from sklearn.neighbors import KNeighborsClassifier, KNeighborsRegressor\n",
        "from sklearn.svm import SVC, SVR\n",
        "from sklearn.model_selection import GridSearchCV,RandomizedSearchCV\n",
        "from sklearn.pipeline import make_pipeline\n",
        "\n",
        "##### For Validation of the Model\n",
        "from sklearn.metrics import r2_score , mean_absolute_error , mean_squared_error , classification_report, confusion_matrix, accuracy_score\n",
        "from sklearn.model_selection import cross_val_score\n",
        "\n",
        "#### another important libraries\n",
        "from sklearn import datasets\n",
        "from scipy.stats import uniform\n",
        "import scipy.stats as stats\n",
        "import warnings\n",
        "warnings.filterwarnings(\"ignore\")\n",
        "sns.set()"
      ]
    },
    {
      "cell_type": "code",
      "source": [
        "d =datasets.load_digits()\n",
        "x_label = d.data\n",
        "y_label = d.target"
      ],
      "metadata": {
        "id": "OwP7D_xRRET4"
      },
      "execution_count": 2,
      "outputs": []
    },
    {
      "cell_type": "code",
      "source": [
        "d"
      ],
      "metadata": {
        "colab": {
          "base_uri": "https://localhost:8080/"
        },
        "id": "iFHdR6fUR5th",
        "outputId": "9f5b7071-bc5a-4a42-fd64-57717ce31b39"
      },
      "execution_count": 3,
      "outputs": [
        {
          "output_type": "execute_result",
          "data": {
            "text/plain": [
              "{'data': array([[ 0.,  0.,  5., ...,  0.,  0.,  0.],\n",
              "        [ 0.,  0.,  0., ..., 10.,  0.,  0.],\n",
              "        [ 0.,  0.,  0., ..., 16.,  9.,  0.],\n",
              "        ...,\n",
              "        [ 0.,  0.,  1., ...,  6.,  0.,  0.],\n",
              "        [ 0.,  0.,  2., ..., 12.,  0.,  0.],\n",
              "        [ 0.,  0., 10., ..., 12.,  1.,  0.]]),\n",
              " 'target': array([0, 1, 2, ..., 8, 9, 8]),\n",
              " 'frame': None,\n",
              " 'feature_names': ['pixel_0_0',\n",
              "  'pixel_0_1',\n",
              "  'pixel_0_2',\n",
              "  'pixel_0_3',\n",
              "  'pixel_0_4',\n",
              "  'pixel_0_5',\n",
              "  'pixel_0_6',\n",
              "  'pixel_0_7',\n",
              "  'pixel_1_0',\n",
              "  'pixel_1_1',\n",
              "  'pixel_1_2',\n",
              "  'pixel_1_3',\n",
              "  'pixel_1_4',\n",
              "  'pixel_1_5',\n",
              "  'pixel_1_6',\n",
              "  'pixel_1_7',\n",
              "  'pixel_2_0',\n",
              "  'pixel_2_1',\n",
              "  'pixel_2_2',\n",
              "  'pixel_2_3',\n",
              "  'pixel_2_4',\n",
              "  'pixel_2_5',\n",
              "  'pixel_2_6',\n",
              "  'pixel_2_7',\n",
              "  'pixel_3_0',\n",
              "  'pixel_3_1',\n",
              "  'pixel_3_2',\n",
              "  'pixel_3_3',\n",
              "  'pixel_3_4',\n",
              "  'pixel_3_5',\n",
              "  'pixel_3_6',\n",
              "  'pixel_3_7',\n",
              "  'pixel_4_0',\n",
              "  'pixel_4_1',\n",
              "  'pixel_4_2',\n",
              "  'pixel_4_3',\n",
              "  'pixel_4_4',\n",
              "  'pixel_4_5',\n",
              "  'pixel_4_6',\n",
              "  'pixel_4_7',\n",
              "  'pixel_5_0',\n",
              "  'pixel_5_1',\n",
              "  'pixel_5_2',\n",
              "  'pixel_5_3',\n",
              "  'pixel_5_4',\n",
              "  'pixel_5_5',\n",
              "  'pixel_5_6',\n",
              "  'pixel_5_7',\n",
              "  'pixel_6_0',\n",
              "  'pixel_6_1',\n",
              "  'pixel_6_2',\n",
              "  'pixel_6_3',\n",
              "  'pixel_6_4',\n",
              "  'pixel_6_5',\n",
              "  'pixel_6_6',\n",
              "  'pixel_6_7',\n",
              "  'pixel_7_0',\n",
              "  'pixel_7_1',\n",
              "  'pixel_7_2',\n",
              "  'pixel_7_3',\n",
              "  'pixel_7_4',\n",
              "  'pixel_7_5',\n",
              "  'pixel_7_6',\n",
              "  'pixel_7_7'],\n",
              " 'target_names': array([0, 1, 2, 3, 4, 5, 6, 7, 8, 9]),\n",
              " 'images': array([[[ 0.,  0.,  5., ...,  1.,  0.,  0.],\n",
              "         [ 0.,  0., 13., ..., 15.,  5.,  0.],\n",
              "         [ 0.,  3., 15., ..., 11.,  8.,  0.],\n",
              "         ...,\n",
              "         [ 0.,  4., 11., ..., 12.,  7.,  0.],\n",
              "         [ 0.,  2., 14., ..., 12.,  0.,  0.],\n",
              "         [ 0.,  0.,  6., ...,  0.,  0.,  0.]],\n",
              " \n",
              "        [[ 0.,  0.,  0., ...,  5.,  0.,  0.],\n",
              "         [ 0.,  0.,  0., ...,  9.,  0.,  0.],\n",
              "         [ 0.,  0.,  3., ...,  6.,  0.,  0.],\n",
              "         ...,\n",
              "         [ 0.,  0.,  1., ...,  6.,  0.,  0.],\n",
              "         [ 0.,  0.,  1., ...,  6.,  0.,  0.],\n",
              "         [ 0.,  0.,  0., ..., 10.,  0.,  0.]],\n",
              " \n",
              "        [[ 0.,  0.,  0., ..., 12.,  0.,  0.],\n",
              "         [ 0.,  0.,  3., ..., 14.,  0.,  0.],\n",
              "         [ 0.,  0.,  8., ..., 16.,  0.,  0.],\n",
              "         ...,\n",
              "         [ 0.,  9., 16., ...,  0.,  0.,  0.],\n",
              "         [ 0.,  3., 13., ..., 11.,  5.,  0.],\n",
              "         [ 0.,  0.,  0., ..., 16.,  9.,  0.]],\n",
              " \n",
              "        ...,\n",
              " \n",
              "        [[ 0.,  0.,  1., ...,  1.,  0.,  0.],\n",
              "         [ 0.,  0., 13., ...,  2.,  1.,  0.],\n",
              "         [ 0.,  0., 16., ..., 16.,  5.,  0.],\n",
              "         ...,\n",
              "         [ 0.,  0., 16., ..., 15.,  0.,  0.],\n",
              "         [ 0.,  0., 15., ..., 16.,  0.,  0.],\n",
              "         [ 0.,  0.,  2., ...,  6.,  0.,  0.]],\n",
              " \n",
              "        [[ 0.,  0.,  2., ...,  0.,  0.,  0.],\n",
              "         [ 0.,  0., 14., ..., 15.,  1.,  0.],\n",
              "         [ 0.,  4., 16., ..., 16.,  7.,  0.],\n",
              "         ...,\n",
              "         [ 0.,  0.,  0., ..., 16.,  2.,  0.],\n",
              "         [ 0.,  0.,  4., ..., 16.,  2.,  0.],\n",
              "         [ 0.,  0.,  5., ..., 12.,  0.,  0.]],\n",
              " \n",
              "        [[ 0.,  0., 10., ...,  1.,  0.,  0.],\n",
              "         [ 0.,  2., 16., ...,  1.,  0.,  0.],\n",
              "         [ 0.,  0., 15., ..., 15.,  0.,  0.],\n",
              "         ...,\n",
              "         [ 0.,  4., 16., ..., 16.,  6.,  0.],\n",
              "         [ 0.,  8., 16., ..., 16.,  8.,  0.],\n",
              "         [ 0.,  1.,  8., ..., 12.,  1.,  0.]]]),\n",
              " 'DESCR': \".. _digits_dataset:\\n\\nOptical recognition of handwritten digits dataset\\n--------------------------------------------------\\n\\n**Data Set Characteristics:**\\n\\n    :Number of Instances: 1797\\n    :Number of Attributes: 64\\n    :Attribute Information: 8x8 image of integer pixels in the range 0..16.\\n    :Missing Attribute Values: None\\n    :Creator: E. Alpaydin (alpaydin '@' boun.edu.tr)\\n    :Date: July; 1998\\n\\nThis is a copy of the test set of the UCI ML hand-written digits datasets\\nhttps://archive.ics.uci.edu/ml/datasets/Optical+Recognition+of+Handwritten+Digits\\n\\nThe data set contains images of hand-written digits: 10 classes where\\neach class refers to a digit.\\n\\nPreprocessing programs made available by NIST were used to extract\\nnormalized bitmaps of handwritten digits from a preprinted form. From a\\ntotal of 43 people, 30 contributed to the training set and different 13\\nto the test set. 32x32 bitmaps are divided into nonoverlapping blocks of\\n4x4 and the number of on pixels are counted in each block. This generates\\nan input matrix of 8x8 where each element is an integer in the range\\n0..16. This reduces dimensionality and gives invariance to small\\ndistortions.\\n\\nFor info on NIST preprocessing routines, see M. D. Garris, J. L. Blue, G.\\nT. Candela, D. L. Dimmick, J. Geist, P. J. Grother, S. A. Janet, and C.\\nL. Wilson, NIST Form-Based Handprint Recognition System, NISTIR 5469,\\n1994.\\n\\n.. topic:: References\\n\\n  - C. Kaynak (1995) Methods of Combining Multiple Classifiers and Their\\n    Applications to Handwritten Digit Recognition, MSc Thesis, Institute of\\n    Graduate Studies in Science and Engineering, Bogazici University.\\n  - E. Alpaydin, C. Kaynak (1998) Cascading Classifiers, Kybernetika.\\n  - Ken Tang and Ponnuthurai N. Suganthan and Xi Yao and A. Kai Qin.\\n    Linear dimensionalityreduction using relevance weighted LDA. School of\\n    Electrical and Electronic Engineering Nanyang Technological University.\\n    2005.\\n  - Claudio Gentile. A New Approximate Maximal Margin Classification\\n    Algorithm. NIPS. 2000.\\n\"}"
            ]
          },
          "metadata": {},
          "execution_count": 3
        }
      ]
    },
    {
      "cell_type": "code",
      "source": [
        "x_label"
      ],
      "metadata": {
        "colab": {
          "base_uri": "https://localhost:8080/"
        },
        "id": "aODMg2eoREWg",
        "outputId": "19f60e1d-adc9-4072-91ac-b50a16a33945"
      },
      "execution_count": 4,
      "outputs": [
        {
          "output_type": "execute_result",
          "data": {
            "text/plain": [
              "array([[ 0.,  0.,  5., ...,  0.,  0.,  0.],\n",
              "       [ 0.,  0.,  0., ..., 10.,  0.,  0.],\n",
              "       [ 0.,  0.,  0., ..., 16.,  9.,  0.],\n",
              "       ...,\n",
              "       [ 0.,  0.,  1., ...,  6.,  0.,  0.],\n",
              "       [ 0.,  0.,  2., ..., 12.,  0.,  0.],\n",
              "       [ 0.,  0., 10., ..., 12.,  1.,  0.]])"
            ]
          },
          "metadata": {},
          "execution_count": 4
        }
      ]
    },
    {
      "cell_type": "code",
      "source": [
        "y_label"
      ],
      "metadata": {
        "colab": {
          "base_uri": "https://localhost:8080/"
        },
        "id": "6iGtypZFREZH",
        "outputId": "6763c5ee-ab2d-4ad2-9e95-ce288ccfca18"
      },
      "execution_count": 5,
      "outputs": [
        {
          "output_type": "execute_result",
          "data": {
            "text/plain": [
              "array([0, 1, 2, ..., 8, 9, 8])"
            ]
          },
          "metadata": {},
          "execution_count": 5
        }
      ]
    },
    {
      "cell_type": "code",
      "source": [
        "#let's visulaize some of the data\n",
        "\n",
        "f,axes = plt.subplots(nrows = 1, ncols = 5 ,figsize=(7,7))\n",
        "for ax, image, label in zip(axes, d.images , d.target):\n",
        "  ax.set_axis_off() # to turn off the axes of a subplot or plot\n",
        "  ax.imshow(image,cmap=plt.cm.gray_r, interpolation=\"nearest\")\n",
        "  ax.set_title(\"Training %i\" % label)\n",
        "plt.show()"
      ],
      "metadata": {
        "colab": {
          "base_uri": "https://localhost:8080/",
          "height": 152
        },
        "id": "IjMfqQ2KREbs",
        "outputId": "93718ddb-3127-4f72-d7fd-f6c931aa28df"
      },
      "execution_count": 6,
      "outputs": [
        {
          "output_type": "display_data",
          "data": {
            "text/plain": [
              "<Figure size 700x700 with 5 Axes>"
            ],
            "image/png": "[encoded data removed]"
          },
          "metadata": {}
        }
      ]
    },
    {
      "cell_type": "markdown",
      "source": [
        "# **Let's Build the models for this dataset**"
      ],
      "metadata": {
        "id": "lDYlJRZsT3Ug"
      }
    },
    {
      "cell_type": "markdown",
      "source": [
        "### **1- Random Forest(RM)**"
      ],
      "metadata": {
        "id": "J8aBhlyHT-JM"
      }
    },
    {
      "cell_type": "code",
      "source": [
        "#initializatrion of the model by taking an object from RandomForestClassifier()\n",
        "rfc =RandomForestClassifier()\n",
        "\n",
        "#fitting this model with our data\n",
        "rfc.fit(x_label,y_label)\n",
        "\n",
        "#measuring the accuracy of this model\n",
        "scores1 = cross_val_score(rfc,x_label,y_label, cv=7  , scoring = \"accuracy\")\n",
        "accuracy_formatted1 = \"{:.2f}\".format(np.mean(scores1) * 100)\n",
        "print(f\"The accuracy of Random Forest Classifier Model is: {accuracy_formatted1} %\")\n"
      ],
      "metadata": {
        "colab": {
          "base_uri": "https://localhost:8080/"
        },
        "id": "dJacXr8bT2sf",
        "outputId": "5664abe5-835d-44ec-e05e-0bd05f3f2cd8"
      },
      "execution_count": 7,
      "outputs": [
        {
          "output_type": "stream",
          "name": "stdout",
          "text": [
            "The accuracy of Random Forest Classifier Model is: 93.38 %\n"
          ]
        }
      ]
    },
    {
      "cell_type": "markdown",
      "source": [
        "### **2- Support Vector Machine(SVM)**"
      ],
      "metadata": {
        "id": "jr7pj66FXo7o"
      }
    },
    {
      "cell_type": "code",
      "source": [
        "#initializatrion of the model by taking an object from RandomForestClassifier()\n",
        "svc =SVC()\n",
        "\n",
        "#fitting this model with our data\n",
        "svc.fit(x_label,y_label)\n",
        "\n",
        "#measuring the accuracy of this model\n",
        "scores2 = cross_val_score(svc,x_label,y_label, cv=7  , scoring = \"accuracy\")\n",
        "accuracy_formatted2 = \"{:.2f}\".format(np.mean(scores2) * 100)\n",
        "print(f\"The accuracy of Support Vector Classifier Model is: {accuracy_formatted2} %\")\n"
      ],
      "metadata": {
        "colab": {
          "base_uri": "https://localhost:8080/"
        },
        "id": "Sxs5x-U2REeU",
        "outputId": "421a94ce-c362-4019-b6e2-5e56d310f44e"
      },
      "execution_count": 8,
      "outputs": [
        {
          "output_type": "stream",
          "name": "stdout",
          "text": [
            "The accuracy of Support Vector Classifier Model is: 96.66 %\n"
          ]
        }
      ]
    },
    {
      "cell_type": "markdown",
      "source": [
        "### **3- K-nearst-Neighbors(KNN)**"
      ],
      "metadata": {
        "id": "i1n471eNX_LN"
      }
    },
    {
      "cell_type": "code",
      "source": [
        "#initializatrion of the model by taking an object from RandomForestClassifier()\n",
        "knn =KNeighborsClassifier()\n",
        "\n",
        "#fitting this model with our data\n",
        "knn.fit(x_label,y_label)\n",
        "\n",
        "#measuring the accuracy of this model\n",
        "scores3 = cross_val_score(knn,x_label,y_label, cv=7  , scoring = \"accuracy\")\n",
        "accuracy_formatted3 = \"{:.2f}\".format(np.mean(scores3) * 100)\n",
        "print(f\"The accuracy of K-nearst-Neighbors Model is: {accuracy_formatted3} %\")"
      ],
      "metadata": {
        "colab": {
          "base_uri": "https://localhost:8080/"
        },
        "id": "WqtaXrcPREg0",
        "outputId": "8d9c9e96-9544-41f4-a8f6-4eba539d022b"
      },
      "execution_count": 9,
      "outputs": [
        {
          "output_type": "stream",
          "name": "stdout",
          "text": [
            "The accuracy of K-nearst-Neighbors Model is: 96.55 %\n"
          ]
        }
      ]
    },
    {
      "cell_type": "markdown",
      "source": [
        "________________________________________________________________________________________________________________________________________________________________"
      ],
      "metadata": {
        "id": "6VNJ7NqBbvaT"
      }
    },
    {
      "cell_type": "markdown",
      "source": [
        "# **Grid Search Technique**"
      ],
      "metadata": {
        "id": "vF2HPcs6YtoX"
      }
    },
    {
      "cell_type": "markdown",
      "source": [
        "### **1- Random Forest(RF)**"
      ],
      "metadata": {
        "id": "IO4Ru_CabEzL"
      }
    },
    {
      "cell_type": "code",
      "source": [
        "# Define the parameter grid you want to search\n",
        "param_grid = {\n",
        "    'n_estimators': [50, 100, 200],\n",
        "    'max_depth': [None, 10, 20],\n",
        "    \"criterion\": [\"gini\", \"entropy\"]}\n",
        "\n",
        "# Create the RandomForestClassifier\n",
        "rfc = RandomForestClassifier()\n",
        "\n",
        "# Create a GridSearchCV object\n",
        "grid = GridSearchCV(rfc, param_grid, cv=5, scoring='accuracy')\n",
        "\n",
        "# Fit the grid search to your data\n",
        "grid.fit(x_label, y_label)\n",
        "\n",
        "# Access the best parameters and best score\n",
        "best_params11 = grid.best_params_\n",
        "best_score11 = grid.best_score_\n",
        "\n",
        "# Calculate and print the accuracy with 2 decimal places\n",
        "print(\"Best Parameters :\", best_params11)\n",
        "accuracy_formatted11 = \"{:.2f}\".format(best_score11 * 100)\n",
        "print(f\"The accuracy of Random Forest Classifier Model with Grid Search is: {accuracy_formatted11} %\")\n"
      ],
      "metadata": {
        "id": "ilb15ceQalEQ",
        "outputId": "50a0913f-59f7-45bd-9568-26185a6907e3",
        "colab": {
          "base_uri": "https://localhost:8080/"
        }
      },
      "execution_count": 10,
      "outputs": [
        {
          "output_type": "stream",
          "name": "stdout",
          "text": [
            "Best Parameters : {'criterion': 'entropy', 'max_depth': 20, 'n_estimators': 50}\n",
            "The accuracy of Random Forest Classifier Model with Grid Search is: 94.10 %\n"
          ]
        }
      ]
    },
    {
      "cell_type": "markdown",
      "source": [
        "### **2- K-nearst-Neighbors(KNN)**"
      ],
      "metadata": {
        "id": "FOIbOcJfbigo"
      }
    },
    {
      "cell_type": "code",
      "source": [
        "from sklearn.model_selection import GridSearchCV\n",
        "from sklearn.neighbors import KNeighborsClassifier\n",
        "import numpy as np\n",
        "\n",
        "# Define the parameter grid you want to search\n",
        "param_grid = {\n",
        "    'n_neighbors': [3, 5, 7],\n",
        "    'weights': ['uniform', 'distance'],\n",
        "    'p': [1, 2]  # For Manhattan and Euclidean distances\n",
        "}\n",
        "\n",
        "# Create the KNeighborsClassifier\n",
        "knn = KNeighborsClassifier()\n",
        "\n",
        "# Create a GridSearchCV object\n",
        "grid = GridSearchCV(knn, param_grid, cv=5, scoring='accuracy')\n",
        "\n",
        "# Fit the grid search to your data\n",
        "grid.fit(x_label, y_label)\n",
        "\n",
        "# Access the best parameters and best score\n",
        "best_params22 = grid.best_params_\n",
        "best_score22 = grid.best_score_\n",
        "\n",
        "# Calculate and print the accuracy with 2 decimal places\n",
        "print(\"Best Parameters:\", best_params22)\n",
        "accuracy_formatted22 = \"{:.2f}\".format(best_score22 * 100)\n",
        "print(f\"The accuracy of K-Nearest Neighbors Model with Grid Search is: {accuracy_formatted22} %\")\n"
      ],
      "metadata": {
        "id": "AcQ5u_ctcAmD",
        "outputId": "cc1120ea-05b8-479d-b1bb-388138ae91f4",
        "colab": {
          "base_uri": "https://localhost:8080/"
        }
      },
      "execution_count": 11,
      "outputs": [
        {
          "output_type": "stream",
          "name": "stdout",
          "text": [
            "Best Parameters: {'n_neighbors': 3, 'p': 2, 'weights': 'uniform'}\n",
            "The accuracy of K-Nearest Neighbors Model with Grid Search is: 96.66 %\n"
          ]
        }
      ]
    },
    {
      "cell_type": "markdown",
      "source": [
        "# **Random Search Technique**"
      ],
      "metadata": {
        "id": "DUCMH-M3dQDi"
      }
    },
    {
      "cell_type": "markdown",
      "source": [
        "### **1- Random Forest(RF)**"
      ],
      "metadata": {
        "id": "eeqhNc11dY9x"
      }
    },
    {
      "cell_type": "code",
      "source": [
        "# Define the parameter distribution you want to search\n",
        "param_dist = {\n",
        "    'n_estimators': [50, 100, 200, 300],\n",
        "    'max_depth': [None, 10, 20, 30],\n",
        "    'min_samples_split': [2, 5, 10],\n",
        "    'min_samples_leaf': [1, 2, 4],\n",
        "    \"criterion\": [\"gini\", \"entropy\"]\n",
        "}\n",
        "\n",
        "# Create the RandomForestClassifier\n",
        "rfc = RandomForestClassifier()\n",
        "\n",
        "# Create a RandomizedSearchCV object\n",
        "random_search = RandomizedSearchCV(rfc, param_distributions=param_dist, n_iter=30, cv=7, scoring='accuracy', random_state=42)\n",
        "\n",
        "# Fit the random search to your data\n",
        "random = random_search.fit(x_label, y_label)\n",
        "\n",
        "# Access the best parameters and best score\n",
        "best_params111 = random.best_params_\n",
        "print(\"Best Parameters:\", best_params111)\n",
        "\n",
        "# Access the best score\n",
        "best_score111 = random.best_score_\n",
        "\n",
        "# Calculate and print the accuracy with 2 decimal places\n",
        "accuracy_formatted111 = \"{:.2f}\".format(best_score111 * 100)\n",
        "print(f\"The accuracy of Random Forest Classifier Model with Randomized Search is: {accuracy_formatted111} %\")\n"
      ],
      "metadata": {
        "id": "I1IY3v6xdlqy",
        "outputId": "c049b98f-bf51-4f2c-cc22-a0c91e978d83",
        "colab": {
          "base_uri": "https://localhost:8080/"
        }
      },
      "execution_count": 12,
      "outputs": [
        {
          "output_type": "stream",
          "name": "stdout",
          "text": [
            "Best Parameters: {'n_estimators': 300, 'min_samples_split': 2, 'min_samples_leaf': 1, 'max_depth': None, 'criterion': 'entropy'}\n",
            "The accuracy of Random Forest Classifier Model with Randomized Search is: 94.21 %\n"
          ]
        }
      ]
    },
    {
      "cell_type": "markdown",
      "source": [
        "### **2- Support Vector Machine(SVM)**"
      ],
      "metadata": {
        "id": "mBsBbtaTdz75"
      }
    },
    {
      "cell_type": "code",
      "source": [
        "# Define the parameter distribution you want to search\n",
        "param_dist = {\n",
        "    'C': uniform(loc=0, scale=10),  # Penalty parameter C\n",
        "    'kernel': [\"linear\", \"poly\", \"rbf\", \"sigmoid\"],\n",
        "    'degree': [2, 3, 4]  # Only relevant for 'poly' kernel\n",
        "}\n",
        "\n",
        "# Create the SVM classifier\n",
        "svm = SVC()\n",
        "\n",
        "# Create a RandomizedSearchCV object\n",
        "random_search = RandomizedSearchCV(svm, param_distributions=param_dist, n_iter=10, cv=5, scoring='accuracy', random_state=42)\n",
        "\n",
        "# Fit the random search to your data\n",
        "random_search.fit(x_label, y_label)\n",
        "\n",
        "# Access the best parameters and best score\n",
        "best_params222 = random_search.best_params_\n",
        "print(\"Best Parameters:\", best_params222)\n",
        "\n",
        "# Access the best score\n",
        "best_score222 = random_search.best_score_\n",
        "\n",
        "# Calculate and print the accuracy with 2 decimal places\n",
        "accuracy_formatted222 = \"{:.2f}\".format(best_score222 * 100)\n",
        "print(f\"The accuracy of Support Vector Machine Model with Randomized Search is: {accuracy_formatted222} %\")\n"
      ],
      "metadata": {
        "id": "sV7j4ljud0CP",
        "outputId": "a04ffa38-11bd-4375-edec-d7d7c3397b49",
        "colab": {
          "base_uri": "https://localhost:8080/"
        }
      },
      "execution_count": 13,
      "outputs": [
        {
          "output_type": "stream",
          "name": "stdout",
          "text": [
            "Best Parameters: {'C': 3.745401188473625, 'degree': 2, 'kernel': 'rbf'}\n",
            "The accuracy of Support Vector Machine Model with Randomized Search is: 97.39 %\n"
          ]
        }
      ]
    },
    {
      "cell_type": "markdown",
      "source": [
        "### **3- K-nearst-Neighbors(KNN)**"
      ],
      "metadata": {
        "id": "iPCvPJD_dZCz"
      }
    },
    {
      "cell_type": "code",
      "source": [
        "# Define the parameter distribution you want to search\n",
        "param_dist = {\n",
        "    'n_neighbors': [3, 5, 7, 9, 11],\n",
        "    'weights': ['uniform', 'distance'],\n",
        "    'p': [1, 2]  # For Manhattan and Euclidean distances\n",
        "}\n",
        "\n",
        "# Create the KNeighborsClassifier\n",
        "knn = KNeighborsClassifier()\n",
        "\n",
        "# Create a RandomizedSearchCV object\n",
        "random_search = RandomizedSearchCV(knn, param_distributions=param_dist, n_iter=10, cv=5, scoring='accuracy', random_state=42)\n",
        "\n",
        "# Fit the random search to your data\n",
        "random_search.fit(x_label, y_label)\n",
        "\n",
        "# Access the best parameters and best score\n",
        "best_params333 = random_search.best_params_\n",
        "print(\"Best Parameters:\", best_params333)\n",
        "\n",
        "# Access the best score\n",
        "best_score333 = random_search.best_score_\n",
        "\n",
        "# Calculate and print the accuracy with 2 decimal places\n",
        "accuracy_formatted333 = \"{:.2f}\".format(best_score333 * 100)\n",
        "print(f\"The accuracy of K-Nearest Neighbors Model with Randomized Search is: {accuracy_formatted333} %\")\n"
      ],
      "metadata": {
        "id": "akTrD3LTdUrI",
        "outputId": "edcce4f3-9272-43a0-a1cd-dd580700d848",
        "colab": {
          "base_uri": "https://localhost:8080/"
        }
      },
      "execution_count": 14,
      "outputs": [
        {
          "output_type": "stream",
          "name": "stdout",
          "text": [
            "Best Parameters: {'weights': 'distance', 'p': 2, 'n_neighbors': 3}\n",
            "The accuracy of K-Nearest Neighbors Model with Randomized Search is: 96.61 %\n"
          ]
        }
      ]
    },
    {
      "cell_type": "markdown",
      "source": [
        "# **The Final Result**"
      ],
      "metadata": {
        "id": "lx9kbm8Jiw5i"
      }
    },
    {
      "cell_type": "code",
      "source": [
        "print(f\"The accuracy of Random Forest Classifier Model is: {accuracy_formatted1} %\")\n",
        "print('__________________________________________________')\n",
        "print(f\"The accuracy of Support Vector Classifier Model is: {accuracy_formatted2} %\")\n",
        "print('___________________________________________________')\n",
        "print(f\"The accuracy of K-nearst-Neighbors Model is: {accuracy_formatted3} %\")\n",
        "print('_____________________________________________')\n",
        "print(f\"The accuracy of Random Forest Classifier Model with Grid Search is: {accuracy_formatted11} %\")\n",
        "print('____________________________________________________________')\n",
        "print(f\"The accuracy of K-Nearest Neighbors Model with Grid Search is: {accuracy_formatted22} %\")\n",
        "print('_______________________________________________________________')\n",
        "print(f\"The accuracy of Random Forest Classifier Model with Randomized Search is: {accuracy_formatted111} %\")\n",
        "print('___________________________________________________________________')\n",
        "print(f\"The accuracy of Support Vector Classifier  Model with Randomized Search is: {accuracy_formatted222} %\")\n",
        "print('_____________________________________________________________________')\n",
        "print(f\"The accuracy of K-Nearest Neighbors Model with Randomized Search is: {accuracy_formatted333} %\")"
      ],
      "metadata": {
        "id": "7y3rC26XiBYd",
        "outputId": "d97562c2-25fa-4615-cae1-467e0c0118dd",
        "colab": {
          "base_uri": "https://localhost:8080/"
        }
      },
      "execution_count": 24,
      "outputs": [
        {
          "output_type": "stream",
          "name": "stdout",
          "text": [
            "The accuracy of Random Forest Classifier Model is: 93.38 %\n",
            "__________________________________________________\n",
            "The accuracy of Support Vector Classifier Model is: 96.66 %\n",
            "___________________________________________________\n",
            "The accuracy of K-nearst-Neighbors Model is: 96.55 %\n",
            "_____________________________________________\n",
            "The accuracy of Random Forest Classifier Model with Grid Search is: 94.10 %\n",
            "____________________________________________________________\n",
            "The accuracy of K-Nearest Neighbors Model with Grid Search is: 96.66 %\n",
            "_______________________________________________________________\n",
            "The accuracy of Random Forest Classifier Model with Randomized Search is: 94.21 %\n",
            "___________________________________________________________________\n",
            "The accuracy of Support Vector Classifier  Model with Randomized Search is: 97.39 %\n",
            "_____________________________________________________________________\n",
            "The accuracy of K-Nearest Neighbors Model with Randomized Search is: 96.61 %\n"
          ]
        }
      ]
    },
    {
      "cell_type": "markdown",
      "source": [
        "### **So after trainig all this model I found that The accuracy of Support Vector Classifier Model with Randomized Search is the highest accuracy which is 97.39 ✅**"
      ],
      "metadata": {
        "id": "YB3V70KvlZft"
      }
    }
  ]
}